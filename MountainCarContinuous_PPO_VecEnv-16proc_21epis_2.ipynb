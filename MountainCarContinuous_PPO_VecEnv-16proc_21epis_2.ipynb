{
 "cells": [
  {
   "cell_type": "markdown",
   "metadata": {},
   "source": [
    "# MountainCarContinuous-v0 with PPO, Vectorized Environment\n",
    "\n",
    "\n",
    "### 1. Create Vectorized Environment"
   ]
  },
  {
   "cell_type": "code",
   "execution_count": 1,
   "metadata": {
    "ExecuteTime": {
     "end_time": "2024-12-15T17:27:18.355485900Z",
     "start_time": "2024-12-15T17:27:15.291859800Z"
    },
    "scrolled": false
   },
   "outputs": [
    {
     "name": "stderr",
     "output_type": "stream",
     "text": [
      "\n"
     ]
    },
    {
     "name": "stdout",
     "output_type": "stream",
     "text": [
      "gym version:  0.22.0\n",
      "torch version:  2.5.1+cu124\n",
      "device:  cpu\n",
      "max_steps:  999\n",
      "threshold:  99.0\n",
      "reassigned threshold:  2000\n"
     ]
    }
   ],
   "source": [
    "import gym\n",
    "import random\n",
    "import torch\n",
    "import numpy as np\n",
    "from collections import deque\n",
    "import matplotlib.pyplot as plt\n",
    "\n",
    "from  collections  import deque\n",
    "import time\n",
    "from model import Policy\n",
    "from ppo import ppo_agent\n",
    "from storage import RolloutStorage\n",
    "from utils import get_render_func, get_vec_normalize\n",
    "from envs import make_vec_envs\n",
    "from parallelEnv import parallelEnv\n",
    "import matplotlib.pyplot as plt\n",
    "%matplotlib inline\n",
    "\n",
    "print('gym version: ', gym.__version__)\n",
    "print('torch version: ', torch.__version__)\n",
    "\n",
    "seed = 0 \n",
    "gamma=0.99\n",
    "num_processes =  16 \n",
    "\n",
    "device = torch.device(\"cpu\")\n",
    "print('device: ', device)\n",
    "\n",
    "envs = parallelEnv('MountainCarContinuous-v0', n=num_processes, seed=seed)\n",
    "\n",
    "## make_vec_envs -cannot find context for 'forkserver'\n",
    "## forkserver is only available in Python 3.4+ and only on some Unix platforms (not on Windows).\n",
    "## envs = make_vec_envs('BipedalWalker-v2', \\\n",
    "##                    seed + 1000, num_processes,\n",
    "##                    None, None, False, device='cpu', allow_early_resets=False)\n",
    "\n",
    "max_steps = envs.max_steps\n",
    "print('max_steps: ', max_steps)\n",
    "\n",
    "threshold = envs.threshold\n",
    "print('threshold: ', threshold)\n",
    "threshold = 2000\n",
    "print('reassigned threshold: ', threshold)\n",
    "\n",
    "torch.manual_seed(seed)\n",
    "torch.cuda.manual_seed(seed)\n",
    "np.random.seed(seed)\n",
    "\n",
    "dir_chk = 'dir_save_test_BC'\n"
   ]
  },
  {
   "cell_type": "markdown",
   "metadata": {},
   "source": [
    "### 2. Instantiate Model, Agent and Storage\n",
    "\n",
    "Initialize the Policy (model MLPBase), PPO Agent and Rollout Storage."
   ]
  },
  {
   "cell_type": "code",
   "execution_count": 2,
   "metadata": {
    "ExecuteTime": {
     "end_time": "2024-12-15T17:27:21.272030900Z",
     "start_time": "2024-12-15T17:27:21.252782900Z"
    },
    "scrolled": false
   },
   "outputs": [
    {
     "name": "stdout",
     "output_type": "stream",
     "text": [
      "type obs:  <class 'numpy.ndarray'> , shape obs:  (16, 2)\n",
      "type obs_t:  <class 'torch.Tensor'> , shape obs_t:  torch.Size([16, 2])\n"
     ]
    }
   ],
   "source": [
    "## model Policy uses MLPBase\n",
    "# policy = Policy(envs.observation_space.shape, envs.action_space,\\\n",
    "#         base_kwargs={'recurrent': False})\n",
    "\n",
    "# 修改policy\n",
    "policy = Policy(envs.observation_space.shape, envs.action_space,\\\n",
    "        base_kwargs={'recurrent': False})\n",
    "\n",
    "policy.to(device)\n",
    "\n",
    "agent = ppo_agent(actor_critic=policy, ppo_epoch=16, num_mini_batch=16,\\\n",
    "                 lr=0.01, eps=1e-5, max_grad_norm=0.5)\n",
    "\n",
    "rollouts = RolloutStorage(num_steps=max_steps, num_processes=num_processes, \\\n",
    "                        obs_shape=envs.observation_space.shape, action_space=envs.action_space, \\\n",
    "                        recurrent_hidden_state_size=policy.recurrent_hidden_state_size)\n",
    "\n",
    "obs = envs.reset()\n",
    "print('type obs: ', type(obs), ', shape obs: ', obs.shape)\n",
    "obs_t = torch.tensor(obs)\n",
    "print('type obs_t: ', type(obs_t), ', shape obs_t: ', obs_t.shape)\n",
    "\n",
    "rollouts.obs[0].copy_(obs_t)\n",
    "rollouts.to(device)\n"
   ]
  },
  {
   "cell_type": "markdown",
   "metadata": {},
   "source": [
    "### 3.Save model function"
   ]
  },
  {
   "cell_type": "code",
   "execution_count": 3,
   "metadata": {
    "ExecuteTime": {
     "end_time": "2024-12-15T17:27:26.493731200Z",
     "start_time": "2024-12-15T17:27:26.489630800Z"
    }
   },
   "outputs": [],
   "source": [
    "def save(model, directory, filename, suffix):\n",
    "    torch.save(model.base.actor.state_dict(), '%s/%s_actor_%s.pth' % (directory, filename, suffix))\n",
    "    torch.save(model.base.critic.state_dict(), '%s/%s_critic_%s.pth' % (directory, filename, suffix))\n",
    "    torch.save(model.base.critic_linear.state_dict(), '%s/%s_critic_linear_%s.pth' % (directory, filename, suffix))\n",
    "    torch.save(model.base, '%s/%s_model_base_%s.pth' % (directory, filename, suffix))\n",
    "    torch.save(model.dist, '%s/%s_model_dist_%s.pth' % (directory, filename, suffix))\n",
    "    \n",
    "limits = [-300, -160, -100, -70, -50, 0, 20, 30, 40, 60, 90, 120, 150, 180, 210, 240, 270, 300, 330]\n",
    "\n",
    "def return_suffix(j):\n",
    "    suf = '0'\n",
    "    for i in range(len(limits)-1):\n",
    "        if j > limits[i] and j < limits[i+1]:\n",
    "            suf = str(limits[i+1])\n",
    "            break\n",
    "        \n",
    "        i_last = len(limits)-1    \n",
    "        if  j > limits[i_last]:\n",
    "            suf = str(limits[i_last])\n",
    "            break\n",
    "    return suf      "
   ]
  },
  {
   "cell_type": "markdown",
   "metadata": {},
   "source": [
    "### 4. Train the Agent  with Vectorized Environment"
   ]
  },
  {
   "cell_type": "code",
   "execution_count": 4,
   "metadata": {
    "ExecuteTime": {
     "end_time": "2024-12-15T17:27:30.214990100Z",
     "start_time": "2024-12-15T17:27:29.824218400Z"
    },
    "collapsed": false
   },
   "outputs": [
    {
     "name": "stderr",
     "output_type": "stream",
     "text": [
      "进度条: 100%|██████████| 1000/1000 [00:02<00:00, 353.68it/s]\n"
     ]
    }
   ],
   "source": [
    "# 第一阶段 行为克隆 根据规则训练actor\n",
    "from tqdm import tqdm\n",
    "n_iterations = 1000\n",
    "\n",
    "def complex_state_to_action(states, device):\n",
    "    # Assuming states is a tensor where each row contains the state information (pos, vec)\n",
    "    pos, vec = states[:, 0], states[:, 1]\n",
    "    \n",
    "    # Initialize actions with zeros of the same length as vec\n",
    "    actions = torch.zeros_like(vec)\n",
    "\n",
    "    # Apply the conditions to determine the action values\n",
    "    mask_large_state = torch.abs(vec) >= 0.065\n",
    "    mask_small_pos = torch.abs(vec) < 0.065\n",
    "    mask_pos_lt_threshold = vec < 0.0002\n",
    "    mask_pos_gt_threshold = vec >= 0.0002\n",
    "    \n",
    "    # Set actions based on the conditions\n",
    "    actions[mask_large_state] = 0.0\n",
    "    actions[~mask_large_state & mask_small_pos & mask_pos_lt_threshold] = -0.9\n",
    "    actions[~mask_large_state & mask_small_pos & mask_pos_gt_threshold] = 0.9\n",
    "    \n",
    "    # Add uniform noise between -0.1 and 0.1 to all actions\n",
    "    noise = (torch.rand_like(actions) * 0.2) - 0.1\n",
    "    actions += noise\n",
    "    \n",
    "    # Ensure that actions are still within the desired range after adding noise\n",
    "    actions = torch.clamp(actions, min=-1, max=1)\n",
    "\n",
    "    return actions.unsqueeze(1).to(device)\n",
    "\n",
    "#actions = torch.tensor(np.where(vec > 0.001, 0.80, -0.80), dtype=torch.float).unsqueeze(1).to(device)\n",
    "with tqdm(total=n_iterations, desc=\"进度条\") as pbar:\n",
    "    for i in range(n_iterations):\n",
    "        pos = np.random.uniform(-9, 6, 500)\n",
    "        vec = np.random.uniform(-0.07, 0.07, 500)\n",
    "        states = torch.tensor(np.column_stack((pos, vec)), dtype=torch.float).to(device)\n",
    "        actions = complex_state_to_action(states=states, device=device)\n",
    "        agent.update_actor_only(states, actions)\n",
    "        pbar.update(1)"
   ]
  },
  {
   "cell_type": "code",
   "execution_count": 5,
   "metadata": {},
   "outputs": [],
   "source": [
    "save(model=policy,directory=dir_chk,filename='we0',suffix='pre_train')"
   ]
  },
  {
   "cell_type": "code",
   "execution_count": 6,
   "metadata": {
    "ExecuteTime": {
     "end_time": "2024-12-15T17:32:13.002333200Z",
     "start_time": "2024-12-15T17:27:35.036730900Z"
    },
    "collapsed": false
   },
   "outputs": [
    {
     "name": "stdout",
     "output_type": "stream",
     "text": [
      "Number of agents:  16\n",
      "Ep. 1, Timesteps 999, Score.Agents: 745.70, Avg.Score: 690.31, Time: 00:00:06, Interval: 00:06\n",
      "Ep. 2, Timesteps 999, Score.Agents: 808.73, Avg.Score: 729.78, Time: 00:00:09, Interval: 00:03\n",
      "Ep. 3, Timesteps 999, Score.Agents: 721.62, Avg.Score: 727.74, Time: 00:00:11, Interval: 00:02\n",
      "Ep. 4, Timesteps 999, Score.Agents: 715.03, Avg.Score: 725.20, Time: 00:00:15, Interval: 00:04\n",
      "Ep. 5, Timesteps 999, Score.Agents: 790.96, Avg.Score: 736.16, Time: 00:00:19, Interval: 00:04\n",
      "Ep. 6, Timesteps 999, Score.Agents: 785.07, Avg.Score: 743.15, Time: 00:00:23, Interval: 00:04\n",
      "Ep. 7, Timesteps 999, Score.Agents: 696.44, Avg.Score: 737.31, Time: 00:00:27, Interval: 00:04\n",
      "Ep. 8, Timesteps 999, Score.Agents: 759.35, Avg.Score: 739.76, Time: 00:00:31, Interval: 00:04\n",
      "Ep. 9, Timesteps 999, Score.Agents: 797.10, Avg.Score: 745.49, Time: 00:00:34, Interval: 00:03\n",
      "Ep. 10, Timesteps 999, Score.Agents: 746.20, Avg.Score: 745.56, Time: 00:00:37, Interval: 00:03\n",
      "Ep. 11, Timesteps 999, Score.Agents: 733.60, Avg.Score: 744.56, Time: 00:00:40, Interval: 00:03\n",
      "Ep. 12, Timesteps 999, Score.Agents: 752.14, Avg.Score: 745.14, Time: 00:00:42, Interval: 00:02\n",
      "Ep. 13, Timesteps 999, Score.Agents: 776.87, Avg.Score: 747.41, Time: 00:00:45, Interval: 00:03\n",
      "Ep. 14, Timesteps 999, Score.Agents: 708.96, Avg.Score: 744.85, Time: 00:00:48, Interval: 00:03\n",
      "Ep. 15, Timesteps 999, Score.Agents: 759.61, Avg.Score: 745.77, Time: 00:00:51, Interval: 00:03\n",
      "Ep. 16, Timesteps 999, Score.Agents: 772.01, Avg.Score: 747.31, Time: 00:00:53, Interval: 00:02\n",
      "Ep. 17, Timesteps 999, Score.Agents: 727.64, Avg.Score: 746.22, Time: 00:00:56, Interval: 00:03\n",
      "Ep. 18, Timesteps 999, Score.Agents: 765.46, Avg.Score: 747.23, Time: 00:00:59, Interval: 00:03\n",
      "Ep. 19, Timesteps 999, Score.Agents: 733.95, Avg.Score: 746.57, Time: 00:01:01, Interval: 00:02\n"
     ]
    }
   ],
   "source": [
    "# 第二阶段 奖励稀疏环境下训练critic\n",
    "envs = parallelEnv('MountainCarContinuous-v0', n=num_processes, seed=seed, dense=False)\n",
    "num_updates=20\n",
    "gamma = 0.99\n",
    "tau=0.95\n",
    "save_interval=30\n",
    "log_interval= 1\n",
    "\n",
    "def ppo_vec_env_train_critic(envs, agent, policy, num_processes, num_steps, rollouts):\n",
    "\n",
    "    time_start = time.time()\n",
    "\n",
    "    n=len(envs.ps)\n",
    "    envs.reset()\n",
    "\n",
    "    # start all parallel agents\n",
    "    print('Number of agents: ', n)\n",
    "    envs.step([[1]*4]*n)\n",
    "\n",
    "    indices = []\n",
    "    for i  in range(n):\n",
    "        indices.append(i)\n",
    "\n",
    "    s = 0\n",
    "\n",
    "    scores_deque = deque(maxlen=100)\n",
    "    scores_array = []\n",
    "    avg_scores_array = []\n",
    "\n",
    "    for i_episode in range(num_updates):\n",
    "\n",
    "        total_reward = np.zeros(n)\n",
    "        timestep = 0\n",
    "\n",
    "        done = False\n",
    "\n",
    "        for timestep in range(num_steps):\n",
    "\n",
    "            with torch.no_grad():\n",
    "                value, actions, action_log_prob, recurrent_hidden_states = \\\n",
    "                   policy.act(\n",
    "                        rollouts.obs[timestep],\n",
    "                        rollouts.recurrent_hidden_states[timestep],\n",
    "                        rollouts.masks[timestep])\n",
    "\n",
    "\n",
    "            obs, rewards, done, _ = envs.step(actions.cpu().detach().numpy())\n",
    "\n",
    "\n",
    "            total_reward += rewards  ## this is the list by agents\n",
    "\n",
    "            # If done then clean the history of observations.\n",
    "            masks = torch.FloatTensor([[0.0] if done_ else [1.0] for done_ in done])\n",
    "            obs_t = torch.tensor(obs)\n",
    "\n",
    "            ## Add one dimnesion to tensor,\n",
    "            ## This is (unsqueeze(1)) solution for:\n",
    "            ## RuntimeError: The expanded size of the tensor (1) must match the existing size...\n",
    "            rewards_t = torch.tensor(rewards).unsqueeze(1)\n",
    "            rollouts.insert(obs_t, recurrent_hidden_states, actions, action_log_prob, \\\n",
    "                value, rewards_t, masks)\n",
    "\n",
    "        avg_total_reward = np.mean(total_reward)\n",
    "        scores_deque.append(avg_total_reward)\n",
    "        scores_array.append(avg_total_reward)\n",
    "\n",
    "        with torch.no_grad():\n",
    "            next_value = policy.get_value(rollouts.obs[-1],\n",
    "                            rollouts.recurrent_hidden_states[-1],\n",
    "                            rollouts.masks[-1]).detach()\n",
    "\n",
    "        rollouts.compute_returns(next_value, gamma, tau)\n",
    "\n",
    "        agent.update_critic_only(rollouts)\n",
    "        # 改动了一下update\n",
    "        # agent.update(rollouts, i_episode)\n",
    "\n",
    "        rollouts.after_update()\n",
    "\n",
    "        avg_score = np.mean(scores_deque)\n",
    "        avg_scores_array.append(avg_score)\n",
    "\n",
    "        if i_episode > 0 and i_episode % save_interval == 0:\n",
    "            print('Saving model, i_episode: ', i_episode, '\\n')\n",
    "            suf = return_suffix(avg_score)\n",
    "            save(policy, dir_chk, 'we0', suf)\n",
    "\n",
    "\n",
    "        if i_episode % log_interval == 0 and len(scores_deque) > 1:\n",
    "            prev_s = s\n",
    "            s = (int)(time.time() - time_start)\n",
    "            t_del = s - prev_s\n",
    "            print('Ep. {}, Timesteps {}, Score.Agents: {:.2f}, Avg.Score: {:.2f}, Time: {:02}:{:02}:{:02}, \\\n",
    "Interval: {:02}:{:02}'\\\n",
    "                   .format(i_episode, timestep+1, \\\n",
    "                        avg_total_reward, avg_score, s//3600, s%3600//60, s%60, t_del%3600//60, t_del%60))\n",
    "\n",
    "        if len(scores_deque) > 1 and avg_score > threshold:\n",
    "            print('Environment solved with Average Score: ',  avg_score )\n",
    "            break\n",
    "\n",
    "\n",
    "    return scores_array, avg_scores_array\n",
    "\n",
    "scores, avg_scores = ppo_vec_env_train_critic(envs, agent, policy, num_processes, max_steps, rollouts)\n",
    "save(model=policy,directory=dir_chk,filename='we0',suffix='value_adjust')"
   ]
  },
  {
   "cell_type": "code",
   "execution_count": 7,
   "metadata": {
    "ExecuteTime": {
     "end_time": "2024-12-15T17:32:16.807443300Z",
     "start_time": "2024-12-15T17:32:16.684703100Z"
    },
    "collapsed": false
   },
   "outputs": [
    {
     "name": "stdout",
     "output_type": "stream",
     "text": [
      "length of scores:  20 , len of avg_scores:  20\n"
     ]
    },
    {
     "data": {
      "image/png": "[encoded data removed]",
      "text/plain": [
       "<Figure size 640x480 with 1 Axes>"
      ]
     },
     "metadata": {},
     "output_type": "display_data"
    }
   ],
   "source": [
    "import matplotlib.pyplot as plt\n",
    "%matplotlib inline\n",
    "\n",
    "print('length of scores: ', len(scores), ', len of avg_scores: ', len(avg_scores))\n",
    "\n",
    "fig = plt.figure()\n",
    "ax = fig.add_subplot(111)\n",
    "plt.plot(np.arange(1, len(scores)+1), scores, label=\"Score\")\n",
    "plt.plot(np.arange(1, len(avg_scores)+1), avg_scores, label=\"Avg on 100 episodes\")\n",
    "plt.legend(bbox_to_anchor=(1.05, 1))\n",
    "plt.ylabel('Score')\n",
    "plt.xlabel('Episodes #')\n",
    "plt.show()"
   ]
  },
  {
   "cell_type": "code",
   "execution_count": 8,
   "metadata": {
    "ExecuteTime": {
     "end_time": "2024-12-15T17:32:22.116150600Z",
     "start_time": "2024-12-15T17:32:22.106288200Z"
    },
    "scrolled": false
   },
   "outputs": [],
   "source": [
    "# 第三阶段 奖励稀疏环境下全量训练\n",
    "num_updates=120\n",
    "gamma = 0.99\n",
    "tau=0.95\n",
    "save_interval=30\n",
    "log_interval= 1 \n",
    "\n",
    "def ppo_vec_env_train(envs, agent, policy, num_processes, num_steps, rollouts):\n",
    "    \n",
    "    time_start = time.time()\n",
    "    \n",
    "    n=len(envs.ps)    \n",
    "    envs.reset()\n",
    "    \n",
    "    # start all parallel agents\n",
    "    print('Number of agents: ', n)\n",
    "    envs.step([[1]*4]*n)\n",
    "    \n",
    "    indices = []\n",
    "    for i  in range(n):\n",
    "        indices.append(i)\n",
    "     \n",
    "    s = 0\n",
    "    \n",
    "    scores_deque = deque(maxlen=100)\n",
    "    scores_array = []\n",
    "    avg_scores_array = []    \n",
    "\n",
    "    for i_episode in range(num_updates):\n",
    "        \n",
    "        total_reward = np.zeros(n)\n",
    "        timestep = 0\n",
    "        \n",
    "        done = False\n",
    "        \n",
    "        for timestep in range(num_steps):\n",
    "            \n",
    "            with torch.no_grad():\n",
    "                value, actions, action_log_prob, recurrent_hidden_states = \\\n",
    "                   policy.act(\n",
    "                        rollouts.obs[timestep],\n",
    "                        rollouts.recurrent_hidden_states[timestep],\n",
    "                        rollouts.masks[timestep])\n",
    "                   \n",
    "                \n",
    "            obs, rewards, done, _ = envs.step(actions.cpu().detach().numpy())\n",
    "            \n",
    "            \n",
    "            total_reward += rewards  ## this is the list by agents\n",
    "                        \n",
    "            # If done then clean the history of observations.\n",
    "            masks = torch.FloatTensor([[0.0] if done_ else [1.0] for done_ in done])\n",
    "            obs_t = torch.tensor(obs)\n",
    "            \n",
    "            ## Add one dimnesion to tensor, \n",
    "            ## This is (unsqueeze(1)) solution for:\n",
    "            ## RuntimeError: The expanded size of the tensor (1) must match the existing size...\n",
    "            rewards_t = torch.tensor(rewards).unsqueeze(1)\n",
    "            rollouts.insert(obs_t, recurrent_hidden_states, actions, action_log_prob, \\\n",
    "                value, rewards_t, masks)\n",
    "                                \n",
    "        avg_total_reward = np.mean(total_reward)\n",
    "        scores_deque.append(avg_total_reward)\n",
    "        scores_array.append(avg_total_reward)\n",
    "                \n",
    "        with torch.no_grad():\n",
    "            next_value = policy.get_value(rollouts.obs[-1],\n",
    "                            rollouts.recurrent_hidden_states[-1],\n",
    "                            rollouts.masks[-1]).detach()\n",
    "\n",
    "        rollouts.compute_returns(next_value, gamma, tau)\n",
    "        \n",
    "        agent.update(rollouts)\n",
    "        # 改动了一下update\n",
    "        # agent.update(rollouts, i_episode)\n",
    "\n",
    "        rollouts.after_update()\n",
    "        \n",
    "        avg_score = np.mean(scores_deque)\n",
    "        avg_scores_array.append(avg_score)\n",
    "\n",
    "        if i_episode > 0 and i_episode % save_interval == 0:\n",
    "            print('Saving model, i_episode: ', i_episode, '\\n')\n",
    "            suf = return_suffix(avg_score)\n",
    "            save(policy, dir_chk, 'we0', suf)\n",
    "\n",
    "        \n",
    "        if i_episode % log_interval == 0 and len(scores_deque) > 1:            \n",
    "            prev_s = s\n",
    "            s = (int)(time.time() - time_start)\n",
    "            t_del = s - prev_s\n",
    "            print('Ep. {}, Timesteps {}, Score.Agents: {:.2f}, Avg.Score: {:.2f}, Time: {:02}:{:02}:{:02}, \\\n",
    "Interval: {:02}:{:02}'\\\n",
    "                   .format(i_episode, timestep+1, \\\n",
    "                        avg_total_reward, avg_score, s//3600, s%3600//60, s%60, t_del%3600//60, t_del%60)) \n",
    "    \n",
    "        if len(scores_deque) > 1 and avg_score > threshold:   \n",
    "            print('Environment solved with Average Score: ',  avg_score )\n",
    "            break\n",
    "        \n",
    "    \n",
    "    return scores_array, avg_scores_array\n"
   ]
  },
  {
   "cell_type": "code",
   "execution_count": 9,
   "metadata": {
    "ExecuteTime": {
     "end_time": "2024-12-15T17:42:57.724461500Z",
     "start_time": "2024-12-15T17:32:27.849575900Z"
    }
   },
   "outputs": [
    {
     "name": "stdout",
     "output_type": "stream",
     "text": [
      "Number of agents:  16\n",
      "Ep. 1, Timesteps 999, Score.Agents: 740.12, Avg.Score: 687.37, Time: 00:00:06, Interval: 00:06\n",
      "Ep. 2, Timesteps 999, Score.Agents: 788.89, Avg.Score: 721.21, Time: 00:00:08, Interval: 00:02\n",
      "Ep. 3, Timesteps 999, Score.Agents: 817.11, Avg.Score: 745.19, Time: 00:00:11, Interval: 00:03\n",
      "Ep. 4, Timesteps 999, Score.Agents: 783.61, Avg.Score: 752.87, Time: 00:00:14, Interval: 00:03\n",
      "Ep. 5, Timesteps 999, Score.Agents: 816.46, Avg.Score: 763.47, Time: 00:00:17, Interval: 00:03\n",
      "Ep. 6, Timesteps 999, Score.Agents: 847.73, Avg.Score: 775.51, Time: 00:00:20, Interval: 00:03\n",
      "Ep. 7, Timesteps 999, Score.Agents: 813.09, Avg.Score: 780.20, Time: 00:00:23, Interval: 00:03\n",
      "Ep. 8, Timesteps 999, Score.Agents: 818.25, Avg.Score: 784.43, Time: 00:00:26, Interval: 00:03\n",
      "Ep. 9, Timesteps 999, Score.Agents: 823.77, Avg.Score: 788.37, Time: 00:00:29, Interval: 00:03\n",
      "Ep. 10, Timesteps 999, Score.Agents: 844.60, Avg.Score: 793.48, Time: 00:00:31, Interval: 00:02\n",
      "Ep. 11, Timesteps 999, Score.Agents: 830.77, Avg.Score: 796.59, Time: 00:00:34, Interval: 00:03\n",
      "Ep. 12, Timesteps 999, Score.Agents: 844.29, Avg.Score: 800.26, Time: 00:00:37, Interval: 00:03\n",
      "Ep. 13, Timesteps 999, Score.Agents: 833.24, Avg.Score: 802.61, Time: 00:00:40, Interval: 00:03\n",
      "Ep. 14, Timesteps 999, Score.Agents: 61.09, Avg.Score: 753.18, Time: 00:00:43, Interval: 00:03\n",
      "Ep. 15, Timesteps 999, Score.Agents: 164.77, Avg.Score: 716.40, Time: 00:00:46, Interval: 00:03\n",
      "Ep. 16, Timesteps 999, Score.Agents: 433.02, Avg.Score: 699.73, Time: 00:00:49, Interval: 00:03\n",
      "Ep. 17, Timesteps 999, Score.Agents: 618.73, Avg.Score: 695.23, Time: 00:00:52, Interval: 00:03\n",
      "Ep. 18, Timesteps 999, Score.Agents: 623.63, Avg.Score: 691.46, Time: 00:00:55, Interval: 00:03\n",
      "Ep. 19, Timesteps 999, Score.Agents: 537.05, Avg.Score: 683.74, Time: 00:00:58, Interval: 00:03\n",
      "Ep. 20, Timesteps 999, Score.Agents: 498.53, Avg.Score: 674.92, Time: 00:01:01, Interval: 00:03\n",
      "Ep. 21, Timesteps 999, Score.Agents: 331.78, Avg.Score: 659.32, Time: 00:01:04, Interval: 00:03\n",
      "Ep. 22, Timesteps 999, Score.Agents: 354.58, Avg.Score: 646.08, Time: 00:01:07, Interval: 00:03\n",
      "Ep. 23, Timesteps 999, Score.Agents: 347.70, Avg.Score: 633.64, Time: 00:01:10, Interval: 00:03\n",
      "Ep. 24, Timesteps 999, Score.Agents: 194.26, Avg.Score: 616.07, Time: 00:01:13, Interval: 00:03\n",
      "Ep. 25, Timesteps 999, Score.Agents: 291.36, Avg.Score: 603.58, Time: 00:01:16, Interval: 00:03\n",
      "Ep. 26, Timesteps 999, Score.Agents: 311.97, Avg.Score: 592.78, Time: 00:01:19, Interval: 00:03\n",
      "Ep. 27, Timesteps 999, Score.Agents: 300.05, Avg.Score: 582.32, Time: 00:01:22, Interval: 00:03\n",
      "Ep. 28, Timesteps 999, Score.Agents: 347.03, Avg.Score: 574.21, Time: 00:01:25, Interval: 00:03\n",
      "Ep. 29, Timesteps 999, Score.Agents: 378.82, Avg.Score: 567.70, Time: 00:01:28, Interval: 00:03\n",
      "Saving model, i_episode:  30 \n",
      "\n",
      "Ep. 30, Timesteps 999, Score.Agents: 334.05, Avg.Score: 560.16, Time: 00:01:31, Interval: 00:03\n",
      "Ep. 31, Timesteps 999, Score.Agents: 393.95, Avg.Score: 554.97, Time: 00:01:34, Interval: 00:03\n",
      "Ep. 32, Timesteps 999, Score.Agents: 431.17, Avg.Score: 551.21, Time: 00:01:37, Interval: 00:03\n",
      "Ep. 33, Timesteps 999, Score.Agents: 493.31, Avg.Score: 549.51, Time: 00:01:40, Interval: 00:03\n",
      "Ep. 34, Timesteps 999, Score.Agents: 477.15, Avg.Score: 547.44, Time: 00:01:43, Interval: 00:03\n",
      "Ep. 35, Timesteps 999, Score.Agents: 542.00, Avg.Score: 547.29, Time: 00:01:46, Interval: 00:03\n",
      "Ep. 36, Timesteps 999, Score.Agents: 488.08, Avg.Score: 545.69, Time: 00:01:49, Interval: 00:03\n",
      "Ep. 37, Timesteps 999, Score.Agents: 545.05, Avg.Score: 545.68, Time: 00:01:52, Interval: 00:03\n",
      "Ep. 38, Timesteps 999, Score.Agents: 527.32, Avg.Score: 545.21, Time: 00:01:55, Interval: 00:03\n",
      "Ep. 39, Timesteps 999, Score.Agents: 517.53, Avg.Score: 544.51, Time: 00:01:58, Interval: 00:03\n",
      "Ep. 40, Timesteps 999, Score.Agents: 539.15, Avg.Score: 544.38, Time: 00:02:01, Interval: 00:03\n",
      "Ep. 41, Timesteps 999, Score.Agents: 548.22, Avg.Score: 544.47, Time: 00:02:04, Interval: 00:03\n",
      "Ep. 42, Timesteps 999, Score.Agents: 531.34, Avg.Score: 544.17, Time: 00:02:07, Interval: 00:03\n",
      "Ep. 43, Timesteps 999, Score.Agents: 578.52, Avg.Score: 544.95, Time: 00:02:10, Interval: 00:03\n",
      "Ep. 44, Timesteps 999, Score.Agents: 614.14, Avg.Score: 546.49, Time: 00:02:14, Interval: 00:04\n",
      "Ep. 45, Timesteps 999, Score.Agents: 611.26, Avg.Score: 547.89, Time: 00:02:17, Interval: 00:03\n",
      "Ep. 46, Timesteps 999, Score.Agents: 624.67, Avg.Score: 549.53, Time: 00:02:20, Interval: 00:03\n",
      "Ep. 47, Timesteps 999, Score.Agents: 623.03, Avg.Score: 551.06, Time: 00:02:24, Interval: 00:04\n",
      "Ep. 48, Timesteps 999, Score.Agents: 633.33, Avg.Score: 552.74, Time: 00:02:27, Interval: 00:03\n",
      "Ep. 49, Timesteps 999, Score.Agents: 639.06, Avg.Score: 554.46, Time: 00:02:30, Interval: 00:03\n"
     ]
    }
   ],
   "source": [
    "import torch.optim as optim\n",
    "agent.optimizer = optim.Adam(agent.actor_critic.parameters(), lr=0.003, eps=1e-5)\n",
    "num_updates=80\n",
    "scores, avg_scores = ppo_vec_env_train(envs, agent, policy, num_processes, max_steps, rollouts)\n",
    "save(model=policy,directory=dir_chk,filename='we0',suffix='final')"
   ]
  },
  {
   "cell_type": "code",
   "execution_count": 10,
   "metadata": {
    "ExecuteTime": {
     "end_time": "2024-12-15T17:44:14.140598Z",
     "start_time": "2024-12-15T17:44:14.036362100Z"
    }
   },
   "outputs": [
    {
     "name": "stdout",
     "output_type": "stream",
     "text": [
      "length of scores:  50 , len of avg_scores:  50\n"
     ]
    },
    {
     "data": {
      "image/png": "[encoded data removed]",
      "text/plain": [
       "<Figure size 640x480 with 1 Axes>"
      ]
     },
     "metadata": {},
     "output_type": "display_data"
    }
   ],
   "source": [
    "import matplotlib.pyplot as plt\n",
    "%matplotlib inline\n",
    "\n",
    "print('length of scores: ', len(scores), ', len of avg_scores: ', len(avg_scores))\n",
    "\n",
    "fig = plt.figure()\n",
    "ax = fig.add_subplot(111)\n",
    "plt.plot(np.arange(1, len(scores)+1), scores, label=\"Score\")\n",
    "plt.plot(np.arange(1, len(avg_scores)+1), avg_scores, label=\"Avg on 100 episodes\")\n",
    "plt.legend(bbox_to_anchor=(1.05, 1)) \n",
    "plt.ylabel('Score')\n",
    "plt.xlabel('Episodes #')\n",
    "plt.show()"
   ]
  }
 ],
 "metadata": {
  "kernelspec": {
   "display_name": "mountain",
   "language": "python",
   "name": "python3"
  },
  "language_info": {
   "codemirror_mode": {
    "name": "ipython",
    "version": 3
   },
   "file_extension": ".py",
   "mimetype": "text/x-python",
   "name": "python",
   "nbconvert_exporter": "python",
   "pygments_lexer": "ipython3",
   "version": "3.11.10"
  }
 },
 "nbformat": 4,
 "nbformat_minor": 2
}
