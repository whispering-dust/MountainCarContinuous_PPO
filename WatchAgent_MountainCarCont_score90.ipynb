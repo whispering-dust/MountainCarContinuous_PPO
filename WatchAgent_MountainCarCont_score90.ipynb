{
 "cells": [
  {
   "cell_type": "code",
   "execution_count": 3,
   "metadata": {},
   "outputs": [
    {
     "name": "stdout",
     "output_type": "stream",
     "text": [
      "device:  cpu\n",
      "max_steps:  999\n",
      "policy:  Policy(\n",
      "  (base): MLPBase(\n",
      "    (actor): Sequential(\n",
      "      (0): Linear(in_features=2, out_features=64, bias=True)\n",
      "      (1): Tanh()\n",
      "      (2): Linear(in_features=64, out_features=64, bias=True)\n",
      "      (3): Tanh()\n",
      "    )\n",
      "    (critic): Sequential(\n",
      "      (0): Linear(in_features=2, out_features=64, bias=True)\n",
      "      (1): Tanh()\n",
      "      (2): Linear(in_features=64, out_features=64, bias=True)\n",
      "      (3): Tanh()\n",
      "    )\n",
      "    (critic_linear): Linear(in_features=64, out_features=1, bias=True)\n",
      "  )\n",
      "  (dist): DiagGaussian(\n",
      "    (fc_mean): Linear(in_features=64, out_features=1, bias=True)\n",
      "    (logstd): AddBias()\n",
      "  )\n",
      ")\n",
      "envs.observation_space.shape:  (2,) , len(obs_shape):  1\n",
      "envs.action_space:  Box(-1.0, 1.0, (1,), float32) , action_space.shape[0]:  1\n"
     ]
    },
    {
     "name": "stderr",
     "output_type": "stream",
     "text": [
      "C:\\Users\\11351\\AppData\\Local\\Temp\\ipykernel_4492\\2404637015.py:40: FutureWarning: You are using `torch.load` with `weights_only=False` (the current default value), which uses the default pickle module implicitly. It is possible to construct malicious pickle data which will execute arbitrary code during unpickling (See https://github.com/pytorch/pytorch/blob/main/SECURITY.md#untrusted-models for more details). In a future release, the default value for `weights_only` will be flipped to `True`. This limits the functions that could be executed during unpickling. Arbitrary objects will no longer be allowed to be loaded via this mode unless they are explicitly allowlisted by the user via `torch.serialization.add_safe_globals`. We recommend you start setting `weights_only=True` for any use case where you don't have full control of the loaded file. Please open an issue on GitHub for any issues related to this experimental feature.\n",
      "  model.base = torch.load(model_path + '/we0_model_base_pre_train.pth')\n",
      "C:\\Users\\11351\\AppData\\Local\\Temp\\ipykernel_4492\\2404637015.py:41: FutureWarning: You are using `torch.load` with `weights_only=False` (the current default value), which uses the default pickle module implicitly. It is possible to construct malicious pickle data which will execute arbitrary code during unpickling (See https://github.com/pytorch/pytorch/blob/main/SECURITY.md#untrusted-models for more details). In a future release, the default value for `weights_only` will be flipped to `True`. This limits the functions that could be executed during unpickling. Arbitrary objects will no longer be allowed to be loaded via this mode unless they are explicitly allowlisted by the user via `torch.serialization.add_safe_globals`. We recommend you start setting `weights_only=True` for any use case where you don't have full control of the loaded file. Please open an issue on GitHub for any issues related to this experimental feature.\n",
      "  model.base.actor.load_state_dict(torch.load(model_path + '/we0_actor_pre_train.pth'))\n",
      "C:\\Users\\11351\\AppData\\Local\\Temp\\ipykernel_4492\\2404637015.py:44: FutureWarning: You are using `torch.load` with `weights_only=False` (the current default value), which uses the default pickle module implicitly. It is possible to construct malicious pickle data which will execute arbitrary code during unpickling (See https://github.com/pytorch/pytorch/blob/main/SECURITY.md#untrusted-models for more details). In a future release, the default value for `weights_only` will be flipped to `True`. This limits the functions that could be executed during unpickling. Arbitrary objects will no longer be allowed to be loaded via this mode unless they are explicitly allowlisted by the user via `torch.serialization.add_safe_globals`. We recommend you start setting `weights_only=True` for any use case where you don't have full control of the loaded file. Please open an issue on GitHub for any issues related to this experimental feature.\n",
      "  model.dist = torch.load(model_path + '/we0_model_dist_pre_train.pth')\n"
     ]
    }
   ],
   "source": [
    "import gym\n",
    "import numpy as np\n",
    "import torch\n",
    "import time\n",
    "from collections  import deque\n",
    "from parallelEnv import parallelEnv\n",
    "from envs import make_vec_envs\n",
    "from model import Policy\n",
    "from utils import get_render_func, get_vec_normalize\n",
    "\n",
    "device = torch.device(\"cpu\")\n",
    "print('device: ', device)\n",
    "model_path = \"dir_save_test_BC\"\n",
    "seed = 0 \n",
    "\n",
    "## model Policy uses MLPBase\n",
    "envs = parallelEnv('MountainCarContinuous-v0', n=8, seed=seed) ## weights created by n = 16\n",
    "\n",
    "max_steps = envs.max_steps\n",
    "print('max_steps: ', max_steps)\n",
    "\n",
    "policy = Policy(envs.observation_space.shape, envs.action_space,\\\n",
    "        base_kwargs={'recurrent': False})\n",
    "\n",
    "print('policy: ', policy)\n",
    "policy.to(device)\n",
    "\n",
    "num_processes = 1\n",
    "env_venv = make_vec_envs('MountainCarContinuous-v0', \\\n",
    "                    seed + 1000, num_processes,\n",
    "                    None, None, False, device=device, allow_early_resets=False)\n",
    "\n",
    "print('envs.observation_space.shape: ', envs.observation_space.shape, \\\n",
    "      ', len(obs_shape): ', len(envs.observation_space.shape))\n",
    "print('envs.action_space: ',  envs.action_space, \\\n",
    "      ', action_space.shape[0]: ', envs.action_space.shape[0])\n",
    "\n",
    "\n",
    "def load_test(model):\n",
    "    model.base = torch.load(model_path + '/we0_model_base_final.pth')\n",
    "    model.base.actor.load_state_dict(torch.load(model_path + '/we0_actor_final.pth'))\n",
    "    # model.base.critic.load_state_dict(torch.load('dir_save\\we0_critic_final.pth'))\n",
    "    # model.base.critic_linear.load_state_dict(torch.load('dir_save\\we0_critic_linear_final.pth'))\n",
    "    model.dist = torch.load(model_path + '/we0_model_dist_final.pth')\n",
    "    \n",
    "load_test(model = policy)    \n"
   ]
  },
  {
   "cell_type": "code",
   "execution_count": 4,
   "metadata": {},
   "outputs": [
    {
     "name": "stdout",
     "output_type": "stream",
     "text": [
      "Episode 1 \tScore: 276.24, Avg.Score: 276.24, \tTime: 00:00:15\n"
     ]
    },
    {
     "ename": "KeyboardInterrupt",
     "evalue": "",
     "output_type": "error",
     "traceback": [
      "\u001b[1;31m---------------------------------------------------------------------------\u001b[0m",
      "\u001b[1;31mKeyboardInterrupt\u001b[0m                         Traceback (most recent call last)",
      "Cell \u001b[1;32mIn[4], line 58\u001b[0m\n\u001b[0;32m     53\u001b[0m         avg_score \u001b[38;5;241m=\u001b[39m np\u001b[38;5;241m.\u001b[39mmean(scores_deque)\n\u001b[0;32m     55\u001b[0m         \u001b[38;5;28mprint\u001b[39m(\u001b[38;5;124m'\u001b[39m\u001b[38;5;124mEpisode \u001b[39m\u001b[38;5;132;01m{}\u001b[39;00m\u001b[38;5;124m \u001b[39m\u001b[38;5;130;01m\\t\u001b[39;00m\u001b[38;5;124mScore: \u001b[39m\u001b[38;5;132;01m{:.2f}\u001b[39;00m\u001b[38;5;124m, Avg.Score: \u001b[39m\u001b[38;5;132;01m{:.2f}\u001b[39;00m\u001b[38;5;124m, \u001b[39m\u001b[38;5;130;01m\\t\u001b[39;00m\u001b[38;5;124mTime: \u001b[39m\u001b[38;5;132;01m{:02}\u001b[39;00m\u001b[38;5;124m:\u001b[39m\u001b[38;5;132;01m{:02}\u001b[39;00m\u001b[38;5;124m:\u001b[39m\u001b[38;5;132;01m{:02}\u001b[39;00m\u001b[38;5;124m'\u001b[39m\\\n\u001b[0;32m     56\u001b[0m                   \u001b[38;5;241m.\u001b[39mformat(i_episode, np\u001b[38;5;241m.\u001b[39mmean(total_reward), avg_score,  s\u001b[38;5;241m/\u001b[39m\u001b[38;5;241m/\u001b[39m\u001b[38;5;241m3600\u001b[39m, s\u001b[38;5;241m%\u001b[39m\u001b[38;5;241m3600\u001b[39m\u001b[38;5;241m/\u001b[39m\u001b[38;5;241m/\u001b[39m\u001b[38;5;241m60\u001b[39m, s\u001b[38;5;241m%\u001b[39m\u001b[38;5;241m60\u001b[39m))\n\u001b[1;32m---> 58\u001b[0m \u001b[43mplay_VecEnv\u001b[49m\u001b[43m(\u001b[49m\u001b[43menv\u001b[49m\u001b[38;5;241;43m=\u001b[39;49m\u001b[43menv_venv\u001b[49m\u001b[43m,\u001b[49m\u001b[43m \u001b[49m\u001b[43mmodel\u001b[49m\u001b[38;5;241;43m=\u001b[39;49m\u001b[43mpolicy\u001b[49m\u001b[43m,\u001b[49m\u001b[43m \u001b[49m\u001b[43mnum_episodes\u001b[49m\u001b[38;5;241;43m=\u001b[39;49m\u001b[38;5;241;43m7\u001b[39;49m\u001b[43m)\u001b[49m   \n",
      "Cell \u001b[1;32mIn[4], line 43\u001b[0m, in \u001b[0;36mplay_VecEnv\u001b[1;34m(env, model, num_episodes)\u001b[0m\n\u001b[0;32m     39\u001b[0m masks\u001b[38;5;241m.\u001b[39mfill_(\u001b[38;5;241m0.0\u001b[39m \u001b[38;5;28;01mif\u001b[39;00m done \u001b[38;5;28;01melse\u001b[39;00m \u001b[38;5;241m1.0\u001b[39m)\n\u001b[0;32m     41\u001b[0m total_reward \u001b[38;5;241m+\u001b[39m\u001b[38;5;241m=\u001b[39m np\u001b[38;5;241m.\u001b[39mmean(reward)\n\u001b[1;32m---> 43\u001b[0m \u001b[43mtime\u001b[49m\u001b[38;5;241;43m.\u001b[39;49m\u001b[43msleep\u001b[49m\u001b[43m(\u001b[49m\u001b[38;5;241;43m0.04\u001b[39;49m\u001b[43m)\u001b[49m\n\u001b[0;32m     45\u001b[0m timestep \u001b[38;5;241m+\u001b[39m\u001b[38;5;241m=\u001b[39m \u001b[38;5;241m1\u001b[39m\n\u001b[0;32m     47\u001b[0m \u001b[38;5;28;01mif\u001b[39;00m done\u001b[38;5;241m.\u001b[39mall() \u001b[38;5;241m==\u001b[39m \u001b[38;5;28;01mTrue\u001b[39;00m \u001b[38;5;129;01mor\u001b[39;00m timestep \u001b[38;5;241m+\u001b[39m \u001b[38;5;241m1\u001b[39m \u001b[38;5;241m==\u001b[39m max_steps: \u001b[38;5;66;03m##   999:\u001b[39;00m\n",
      "\u001b[1;31mKeyboardInterrupt\u001b[0m: "
     ]
    }
   ],
   "source": [
    "## No CUDA, only CPU\n",
    "\n",
    "def play_VecEnv(env, model, num_episodes):\n",
    "\n",
    "    obs = env.reset()\n",
    "    obs = torch.Tensor(obs)\n",
    "    obs = obs.float()\n",
    "        \n",
    "    recurrent_hidden_states = torch.zeros(1, model.recurrent_hidden_state_size)\n",
    "    \n",
    "    masks = torch.zeros(1, 1)\n",
    "    \n",
    "    scores_deque = deque(maxlen=100)\n",
    "\n",
    "    render_func = get_render_func(env)\n",
    "        \n",
    "    for i_episode in range(1, num_episodes+1):     \n",
    "\n",
    "        time_start = time.time()\n",
    "        total_reward = np.zeros(num_processes)\n",
    "        timestep = 0\n",
    "\n",
    "        done = False\n",
    "        \n",
    "        while not done:\n",
    "        \n",
    "            with torch.no_grad():\n",
    "                value, action, _, recurrent_hidden_states = \\\n",
    "                    model.act(obs, recurrent_hidden_states, masks, deterministic=False) # obs = state\n",
    "                            \n",
    "\n",
    "            render_func()\n",
    "            \n",
    "            obs, reward, done, _ = env.step(action.unsqueeze(1))\n",
    "            obs = torch.Tensor(obs)\n",
    "            obs = obs.float()\n",
    "\n",
    "            reward = reward.detach().numpy()\n",
    "            masks.fill_(0.0 if done else 1.0)\n",
    "            \n",
    "            total_reward += np.mean(reward)\n",
    "            \n",
    "            time.sleep(0.04)\n",
    "            \n",
    "            timestep += 1\n",
    "            \n",
    "            if done.all() == True or timestep + 1 == max_steps: ##   999:\n",
    "                break\n",
    "\n",
    "        s = (int)(time.time() - time_start)\n",
    "        \n",
    "        scores_deque.append(total_reward)        \n",
    "        avg_score = np.mean(scores_deque)\n",
    "                    \n",
    "        print('Episode {} \\tScore: {:.2f}, Avg.Score: {:.2f}, \\tTime: {:02}:{:02}:{:02}'\\\n",
    "                  .format(i_episode, np.mean(total_reward), avg_score,  s//3600, s%3600//60, s%60))\n",
    "    \n",
    "play_VecEnv(env=env_venv, model=policy, num_episodes=7)   \n",
    "\n"
   ]
  },
  {
   "cell_type": "code",
   "execution_count": 6,
   "metadata": {},
   "outputs": [],
   "source": [
    "env_venv.close()"
   ]
  }
 ],
 "metadata": {
  "kernelspec": {
   "display_name": "mountain",
   "language": "python",
   "name": "python3"
  },
  "language_info": {
   "codemirror_mode": {
    "name": "ipython",
    "version": 3
   },
   "file_extension": ".py",
   "mimetype": "text/x-python",
   "name": "python",
   "nbconvert_exporter": "python",
   "pygments_lexer": "ipython3",
   "version": "3.11.10"
  }
 },
 "nbformat": 4,
 "nbformat_minor": 2
}
